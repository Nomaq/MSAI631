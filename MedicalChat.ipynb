{
 "cells": [
  {
   "cell_type": "code",
   "execution_count": 1,
   "id": "d0c2b649-1f39-4f7c-bffe-a9002179f3a7",
   "metadata": {},
   "outputs": [
    {
     "name": "stdout",
     "output_type": "stream",
     "text": [
      "Collecting transformers\n",
      "  Downloading transformers-4.46.3-py3-none-any.whl.metadata (44 kB)\n",
      "Collecting sentence-transformers\n",
      "  Downloading sentence_transformers-3.3.1-py3-none-any.whl.metadata (10 kB)\n",
      "Collecting gradio\n",
      "  Downloading gradio-5.6.0-py3-none-any.whl.metadata (16 kB)\n",
      "Collecting faiss-cpu\n",
      "  Downloading faiss_cpu-1.9.0.post1-cp312-cp312-win_amd64.whl.metadata (4.5 kB)\n",
      "Requirement already satisfied: pandas in c:\\users\\sebas\\anaconda3\\lib\\site-packages (2.2.2)\n",
      "Requirement already satisfied: numpy in c:\\users\\sebas\\anaconda3\\lib\\site-packages (1.26.4)\n",
      "Requirement already satisfied: filelock in c:\\users\\sebas\\anaconda3\\lib\\site-packages (from transformers) (3.13.1)\n",
      "Collecting huggingface-hub<1.0,>=0.23.2 (from transformers)\n",
      "  Downloading huggingface_hub-0.26.2-py3-none-any.whl.metadata (13 kB)\n",
      "Requirement already satisfied: packaging>=20.0 in c:\\users\\sebas\\anaconda3\\lib\\site-packages (from transformers) (24.1)\n",
      "Requirement already satisfied: pyyaml>=5.1 in c:\\users\\sebas\\anaconda3\\lib\\site-packages (from transformers) (6.0.1)\n",
      "Requirement already satisfied: regex!=2019.12.17 in c:\\users\\sebas\\anaconda3\\lib\\site-packages (from transformers) (2024.9.11)\n",
      "Requirement already satisfied: requests in c:\\users\\sebas\\anaconda3\\lib\\site-packages (from transformers) (2.32.3)\n",
      "Collecting tokenizers<0.21,>=0.20 (from transformers)\n",
      "  Downloading tokenizers-0.20.3-cp312-none-win_amd64.whl.metadata (6.9 kB)\n",
      "Collecting safetensors>=0.4.1 (from transformers)\n",
      "  Downloading safetensors-0.4.5-cp312-none-win_amd64.whl.metadata (3.9 kB)\n",
      "Requirement already satisfied: tqdm>=4.27 in c:\\users\\sebas\\anaconda3\\lib\\site-packages (from transformers) (4.66.5)\n",
      "Collecting torch>=1.11.0 (from sentence-transformers)\n",
      "  Downloading torch-2.5.1-cp312-cp312-win_amd64.whl.metadata (28 kB)\n",
      "Requirement already satisfied: scikit-learn in c:\\users\\sebas\\anaconda3\\lib\\site-packages (from sentence-transformers) (1.5.1)\n",
      "Requirement already satisfied: scipy in c:\\users\\sebas\\anaconda3\\lib\\site-packages (from sentence-transformers) (1.13.1)\n",
      "Requirement already satisfied: Pillow in c:\\users\\sebas\\anaconda3\\lib\\site-packages (from sentence-transformers) (10.4.0)\n",
      "Collecting aiofiles<24.0,>=22.0 (from gradio)\n",
      "  Downloading aiofiles-23.2.1-py3-none-any.whl.metadata (9.7 kB)\n",
      "Requirement already satisfied: anyio<5.0,>=3.0 in c:\\users\\sebas\\anaconda3\\lib\\site-packages (from gradio) (4.2.0)\n",
      "Collecting fastapi<1.0,>=0.115.2 (from gradio)\n",
      "  Downloading fastapi-0.115.5-py3-none-any.whl.metadata (27 kB)\n",
      "Collecting ffmpy (from gradio)\n",
      "  Downloading ffmpy-0.4.0-py3-none-any.whl.metadata (2.9 kB)\n",
      "Collecting gradio-client==1.4.3 (from gradio)\n",
      "  Downloading gradio_client-1.4.3-py3-none-any.whl.metadata (7.1 kB)\n",
      "Requirement already satisfied: httpx>=0.24.1 in c:\\users\\sebas\\anaconda3\\lib\\site-packages (from gradio) (0.27.0)\n",
      "Requirement already satisfied: jinja2<4.0 in c:\\users\\sebas\\anaconda3\\lib\\site-packages (from gradio) (3.1.4)\n",
      "Requirement already satisfied: markupsafe~=2.0 in c:\\users\\sebas\\anaconda3\\lib\\site-packages (from gradio) (2.1.3)\n",
      "Collecting orjson~=3.0 (from gradio)\n",
      "  Downloading orjson-3.10.11-cp312-none-win_amd64.whl.metadata (52 kB)\n",
      "Requirement already satisfied: pydantic>=2.0 in c:\\users\\sebas\\anaconda3\\lib\\site-packages (from gradio) (2.8.2)\n",
      "Collecting pydub (from gradio)\n",
      "  Downloading pydub-0.25.1-py2.py3-none-any.whl.metadata (1.4 kB)\n",
      "Collecting python-multipart==0.0.12 (from gradio)\n",
      "  Downloading python_multipart-0.0.12-py3-none-any.whl.metadata (1.9 kB)\n",
      "Collecting ruff>=0.2.2 (from gradio)\n",
      "  Downloading ruff-0.8.0-py3-none-win_amd64.whl.metadata (25 kB)\n",
      "Collecting safehttpx<1.0,>=0.1.1 (from gradio)\n",
      "  Downloading safehttpx-0.1.1-py3-none-any.whl.metadata (4.1 kB)\n",
      "Collecting semantic-version~=2.0 (from gradio)\n",
      "  Downloading semantic_version-2.10.0-py2.py3-none-any.whl.metadata (9.7 kB)\n",
      "Collecting starlette<1.0,>=0.40.0 (from gradio)\n",
      "  Downloading starlette-0.41.3-py3-none-any.whl.metadata (6.0 kB)\n",
      "Collecting tomlkit==0.12.0 (from gradio)\n",
      "  Downloading tomlkit-0.12.0-py3-none-any.whl.metadata (2.7 kB)\n",
      "Collecting typer<1.0,>=0.12 (from gradio)\n",
      "  Downloading typer-0.13.1-py3-none-any.whl.metadata (15 kB)\n",
      "Requirement already satisfied: typing-extensions~=4.0 in c:\\users\\sebas\\anaconda3\\lib\\site-packages (from gradio) (4.11.0)\n",
      "Collecting uvicorn>=0.14.0 (from gradio)\n",
      "  Downloading uvicorn-0.32.1-py3-none-any.whl.metadata (6.6 kB)\n",
      "Requirement already satisfied: fsspec in c:\\users\\sebas\\anaconda3\\lib\\site-packages (from gradio-client==1.4.3->gradio) (2024.6.1)\n",
      "Collecting websockets<13.0,>=10.0 (from gradio-client==1.4.3->gradio)\n",
      "  Downloading websockets-12.0-cp312-cp312-win_amd64.whl.metadata (6.8 kB)\n",
      "Requirement already satisfied: python-dateutil>=2.8.2 in c:\\users\\sebas\\anaconda3\\lib\\site-packages (from pandas) (2.9.0.post0)\n",
      "Requirement already satisfied: pytz>=2020.1 in c:\\users\\sebas\\anaconda3\\lib\\site-packages (from pandas) (2024.1)\n",
      "Requirement already satisfied: tzdata>=2022.7 in c:\\users\\sebas\\anaconda3\\lib\\site-packages (from pandas) (2023.3)\n",
      "Requirement already satisfied: idna>=2.8 in c:\\users\\sebas\\anaconda3\\lib\\site-packages (from anyio<5.0,>=3.0->gradio) (3.7)\n",
      "Requirement already satisfied: sniffio>=1.1 in c:\\users\\sebas\\anaconda3\\lib\\site-packages (from anyio<5.0,>=3.0->gradio) (1.3.0)\n",
      "Requirement already satisfied: certifi in c:\\users\\sebas\\anaconda3\\lib\\site-packages (from httpx>=0.24.1->gradio) (2024.8.30)\n",
      "Requirement already satisfied: httpcore==1.* in c:\\users\\sebas\\anaconda3\\lib\\site-packages (from httpx>=0.24.1->gradio) (1.0.2)\n",
      "Requirement already satisfied: h11<0.15,>=0.13 in c:\\users\\sebas\\anaconda3\\lib\\site-packages (from httpcore==1.*->httpx>=0.24.1->gradio) (0.14.0)\n",
      "Requirement already satisfied: annotated-types>=0.4.0 in c:\\users\\sebas\\anaconda3\\lib\\site-packages (from pydantic>=2.0->gradio) (0.6.0)\n",
      "Requirement already satisfied: pydantic-core==2.20.1 in c:\\users\\sebas\\anaconda3\\lib\\site-packages (from pydantic>=2.0->gradio) (2.20.1)\n",
      "Requirement already satisfied: six>=1.5 in c:\\users\\sebas\\anaconda3\\lib\\site-packages (from python-dateutil>=2.8.2->pandas) (1.16.0)\n",
      "Requirement already satisfied: networkx in c:\\users\\sebas\\anaconda3\\lib\\site-packages (from torch>=1.11.0->sentence-transformers) (3.3)\n",
      "Requirement already satisfied: setuptools in c:\\users\\sebas\\anaconda3\\lib\\site-packages (from torch>=1.11.0->sentence-transformers) (75.1.0)\n",
      "Collecting sympy==1.13.1 (from torch>=1.11.0->sentence-transformers)\n",
      "  Downloading sympy-1.13.1-py3-none-any.whl.metadata (12 kB)\n",
      "Requirement already satisfied: mpmath<1.4,>=1.1.0 in c:\\users\\sebas\\anaconda3\\lib\\site-packages (from sympy==1.13.1->torch>=1.11.0->sentence-transformers) (1.3.0)\n",
      "Requirement already satisfied: colorama in c:\\users\\sebas\\anaconda3\\lib\\site-packages (from tqdm>=4.27->transformers) (0.4.6)\n",
      "Requirement already satisfied: click>=8.0.0 in c:\\users\\sebas\\anaconda3\\lib\\site-packages (from typer<1.0,>=0.12->gradio) (8.1.7)\n",
      "Collecting shellingham>=1.3.0 (from typer<1.0,>=0.12->gradio)\n",
      "  Downloading shellingham-1.5.4-py2.py3-none-any.whl.metadata (3.5 kB)\n",
      "Requirement already satisfied: rich>=10.11.0 in c:\\users\\sebas\\anaconda3\\lib\\site-packages (from typer<1.0,>=0.12->gradio) (13.7.1)\n",
      "Requirement already satisfied: charset-normalizer<4,>=2 in c:\\users\\sebas\\anaconda3\\lib\\site-packages (from requests->transformers) (3.3.2)\n",
      "Requirement already satisfied: urllib3<3,>=1.21.1 in c:\\users\\sebas\\anaconda3\\lib\\site-packages (from requests->transformers) (2.2.3)\n",
      "Requirement already satisfied: joblib>=1.2.0 in c:\\users\\sebas\\anaconda3\\lib\\site-packages (from scikit-learn->sentence-transformers) (1.4.2)\n",
      "Requirement already satisfied: threadpoolctl>=3.1.0 in c:\\users\\sebas\\anaconda3\\lib\\site-packages (from scikit-learn->sentence-transformers) (3.5.0)\n",
      "Requirement already satisfied: markdown-it-py>=2.2.0 in c:\\users\\sebas\\anaconda3\\lib\\site-packages (from rich>=10.11.0->typer<1.0,>=0.12->gradio) (2.2.0)\n",
      "Requirement already satisfied: pygments<3.0.0,>=2.13.0 in c:\\users\\sebas\\anaconda3\\lib\\site-packages (from rich>=10.11.0->typer<1.0,>=0.12->gradio) (2.15.1)\n",
      "Requirement already satisfied: mdurl~=0.1 in c:\\users\\sebas\\anaconda3\\lib\\site-packages (from markdown-it-py>=2.2.0->rich>=10.11.0->typer<1.0,>=0.12->gradio) (0.1.0)\n",
      "Downloading transformers-4.46.3-py3-none-any.whl (10.0 MB)\n",
      "   ---------------------------------------- 0.0/10.0 MB ? eta -:--:--\n",
      "   ----- ---------------------------------- 1.3/10.0 MB 9.6 MB/s eta 0:00:01\n",
      "   ------------- -------------------------- 3.4/10.0 MB 9.6 MB/s eta 0:00:01\n",
      "   ------------------------- -------------- 6.3/10.0 MB 11.4 MB/s eta 0:00:01\n",
      "   ----------------------------------- ---- 8.9/10.0 MB 12.0 MB/s eta 0:00:01\n",
      "   ---------------------------------------- 10.0/10.0 MB 12.0 MB/s eta 0:00:00\n",
      "Downloading sentence_transformers-3.3.1-py3-none-any.whl (268 kB)\n",
      "Downloading gradio-5.6.0-py3-none-any.whl (57.1 MB)\n",
      "   ---------------------------------------- 0.0/57.1 MB ? eta -:--:--\n",
      "   -- ------------------------------------- 3.1/57.1 MB 15.4 MB/s eta 0:00:04\n",
      "   ---- ----------------------------------- 6.3/57.1 MB 15.4 MB/s eta 0:00:04\n",
      "   ------ --------------------------------- 9.7/57.1 MB 15.9 MB/s eta 0:00:03\n",
      "   --------- ------------------------------ 13.4/57.1 MB 16.1 MB/s eta 0:00:03\n",
      "   ----------- ---------------------------- 16.8/57.1 MB 16.3 MB/s eta 0:00:03\n",
      "   --------------- ------------------------ 21.5/57.1 MB 17.2 MB/s eta 0:00:03\n",
      "   ------------------ --------------------- 26.5/57.1 MB 18.2 MB/s eta 0:00:02\n",
      "   ---------------------- ----------------- 31.7/57.1 MB 19.0 MB/s eta 0:00:02\n",
      "   ------------------------- -------------- 36.7/57.1 MB 19.6 MB/s eta 0:00:02\n",
      "   ----------------------------- ---------- 42.5/57.1 MB 20.3 MB/s eta 0:00:01\n",
      "   --------------------------------- ------ 48.2/57.1 MB 20.9 MB/s eta 0:00:01\n",
      "   -------------------------------------- - 55.3/57.1 MB 22.0 MB/s eta 0:00:01\n",
      "   ---------------------------------------- 57.1/57.1 MB 21.5 MB/s eta 0:00:00\n",
      "Downloading gradio_client-1.4.3-py3-none-any.whl (320 kB)\n",
      "Downloading python_multipart-0.0.12-py3-none-any.whl (23 kB)\n",
      "Downloading tomlkit-0.12.0-py3-none-any.whl (37 kB)\n",
      "Downloading faiss_cpu-1.9.0.post1-cp312-cp312-win_amd64.whl (13.8 MB)\n",
      "   ---------------------------------------- 0.0/13.8 MB ? eta -:--:--\n",
      "   ------------------ --------------------- 6.3/13.8 MB 32.1 MB/s eta 0:00:01\n",
      "   ---------------------------------- ----- 11.8/13.8 MB 30.8 MB/s eta 0:00:01\n",
      "   ---------------------------------------- 13.8/13.8 MB 29.0 MB/s eta 0:00:00\n",
      "Downloading aiofiles-23.2.1-py3-none-any.whl (15 kB)\n",
      "Downloading fastapi-0.115.5-py3-none-any.whl (94 kB)\n",
      "Downloading huggingface_hub-0.26.2-py3-none-any.whl (447 kB)\n",
      "Downloading orjson-3.10.11-cp312-none-win_amd64.whl (136 kB)\n",
      "Downloading ruff-0.8.0-py3-none-win_amd64.whl (9.6 MB)\n",
      "   ---------------------------------------- 0.0/9.6 MB ? eta -:--:--\n",
      "   ------------------------- -------------- 6.0/9.6 MB 30.8 MB/s eta 0:00:01\n",
      "   ---------------------------------------- 9.6/9.6 MB 27.0 MB/s eta 0:00:00\n",
      "Downloading safehttpx-0.1.1-py3-none-any.whl (8.4 kB)\n",
      "Downloading safetensors-0.4.5-cp312-none-win_amd64.whl (286 kB)\n",
      "Downloading semantic_version-2.10.0-py2.py3-none-any.whl (15 kB)\n",
      "Downloading starlette-0.41.3-py3-none-any.whl (73 kB)\n",
      "Downloading tokenizers-0.20.3-cp312-none-win_amd64.whl (2.4 MB)\n",
      "   ---------------------------------------- 0.0/2.4 MB ? eta -:--:--\n",
      "   ---------------------------------------- 2.4/2.4 MB 27.2 MB/s eta 0:00:00\n",
      "Downloading torch-2.5.1-cp312-cp312-win_amd64.whl (203.0 MB)\n",
      "   ---------------------------------------- 0.0/203.0 MB ? eta -:--:--\n",
      "   - -------------------------------------- 6.3/203.0 MB 32.1 MB/s eta 0:00:07\n",
      "   -- ------------------------------------- 13.1/203.0 MB 31.6 MB/s eta 0:00:07\n",
      "   --- ------------------------------------ 19.4/203.0 MB 31.4 MB/s eta 0:00:06\n",
      "   ----- ---------------------------------- 26.2/203.0 MB 31.9 MB/s eta 0:00:06\n",
      "   ------ --------------------------------- 33.8/203.0 MB 32.5 MB/s eta 0:00:06\n",
      "   ------- -------------------------------- 40.1/203.0 MB 32.3 MB/s eta 0:00:06\n",
      "   -------- ------------------------------- 41.4/203.0 MB 32.1 MB/s eta 0:00:06\n",
      "   -------- ------------------------------- 45.1/203.0 MB 27.3 MB/s eta 0:00:06\n",
      "   ---------- ----------------------------- 51.6/203.0 MB 27.6 MB/s eta 0:00:06\n",
      "   ----------- ---------------------------- 59.0/203.0 MB 28.3 MB/s eta 0:00:06\n",
      "   ------------- -------------------------- 67.4/203.0 MB 29.2 MB/s eta 0:00:05\n",
      "   ------------- -------------------------- 70.3/203.0 MB 28.0 MB/s eta 0:00:05\n",
      "   --------------- ------------------------ 78.6/203.0 MB 29.0 MB/s eta 0:00:05\n",
      "   ----------------- ---------------------- 86.5/203.0 MB 29.4 MB/s eta 0:00:04\n",
      "   ------------------ --------------------- 93.8/203.0 MB 29.9 MB/s eta 0:00:04\n",
      "   ------------------- -------------------- 97.5/203.0 MB 29.1 MB/s eta 0:00:04\n",
      "   -------------------- ------------------ 106.2/203.0 MB 29.9 MB/s eta 0:00:04\n",
      "   --------------------- ----------------- 110.1/203.0 MB 29.8 MB/s eta 0:00:04\n",
      "   ---------------------- ---------------- 119.5/203.0 MB 30.1 MB/s eta 0:00:03\n",
      "   ------------------------ -------------- 127.9/203.0 MB 30.6 MB/s eta 0:00:03\n",
      "   ------------------------- ------------- 134.5/203.0 MB 30.6 MB/s eta 0:00:03\n",
      "   -------------------------- ------------ 138.7/203.0 MB 30.8 MB/s eta 0:00:03\n",
      "   ---------------------------- ---------- 146.5/203.0 MB 30.4 MB/s eta 0:00:02\n",
      "   ---------------------------- ---------- 150.2/203.0 MB 29.9 MB/s eta 0:00:02\n",
      "   ------------------------------ -------- 156.2/203.0 MB 29.7 MB/s eta 0:00:02\n",
      "   ------------------------------- ------- 161.5/203.0 MB 29.6 MB/s eta 0:00:02\n",
      "   ------------------------------- ------- 166.5/203.0 MB 29.5 MB/s eta 0:00:02\n",
      "   --------------------------------- ----- 173.3/203.0 MB 29.4 MB/s eta 0:00:02\n",
      "   ---------------------------------- ---- 179.0/203.0 MB 29.4 MB/s eta 0:00:01\n",
      "   ----------------------------------- --- 186.6/203.0 MB 29.7 MB/s eta 0:00:01\n",
      "   ------------------------------------- - 193.5/203.0 MB 29.7 MB/s eta 0:00:01\n",
      "   --------------------------------------  199.8/203.0 MB 29.7 MB/s eta 0:00:01\n",
      "   --------------------------------------  202.9/203.0 MB 29.8 MB/s eta 0:00:01\n",
      "   --------------------------------------- 203.0/203.0 MB 29.0 MB/s eta 0:00:00\n",
      "Downloading sympy-1.13.1-py3-none-any.whl (6.2 MB)\n",
      "   ---------------------------------------- 0.0/6.2 MB ? eta -:--:--\n",
      "   ---------------------------------------- 6.2/6.2 MB 34.5 MB/s eta 0:00:00\n",
      "Downloading typer-0.13.1-py3-none-any.whl (44 kB)\n",
      "Downloading uvicorn-0.32.1-py3-none-any.whl (63 kB)\n",
      "Downloading ffmpy-0.4.0-py3-none-any.whl (5.8 kB)\n",
      "Downloading pydub-0.25.1-py2.py3-none-any.whl (32 kB)\n",
      "Downloading shellingham-1.5.4-py2.py3-none-any.whl (9.8 kB)\n",
      "Downloading websockets-12.0-cp312-cp312-win_amd64.whl (124 kB)\n",
      "Installing collected packages: pydub, websockets, tomlkit, sympy, shellingham, semantic-version, safetensors, ruff, python-multipart, orjson, ffmpy, faiss-cpu, aiofiles, uvicorn, torch, starlette, huggingface-hub, typer, tokenizers, safehttpx, gradio-client, fastapi, transformers, gradio, sentence-transformers\n",
      "  Attempting uninstall: tomlkit\n",
      "    Found existing installation: tomlkit 0.11.1\n",
      "    Uninstalling tomlkit-0.11.1:\n",
      "      Successfully uninstalled tomlkit-0.11.1\n",
      "  Attempting uninstall: sympy\n",
      "    Found existing installation: sympy 1.13.2\n",
      "    Uninstalling sympy-1.13.2:\n",
      "      Successfully uninstalled sympy-1.13.2\n",
      "Successfully installed aiofiles-23.2.1 faiss-cpu-1.9.0.post1 fastapi-0.115.5 ffmpy-0.4.0 gradio-5.6.0 gradio-client-1.4.3 huggingface-hub-0.26.2 orjson-3.10.11 pydub-0.25.1 python-multipart-0.0.12 ruff-0.8.0 safehttpx-0.1.1 safetensors-0.4.5 semantic-version-2.10.0 sentence-transformers-3.3.1 shellingham-1.5.4 starlette-0.41.3 sympy-1.13.1 tokenizers-0.20.3 tomlkit-0.12.0 torch-2.5.1 transformers-4.46.3 typer-0.13.1 uvicorn-0.32.1 websockets-12.0\n",
      "Note: you may need to restart the kernel to use updated packages.\n"
     ]
    }
   ],
   "source": [
    "pip install transformers sentence-transformers gradio faiss-cpu pandas numpy"
   ]
  },
  {
   "cell_type": "code",
   "execution_count": 3,
   "id": "03d62a04-c5b4-4419-b3ed-d034a8c8a505",
   "metadata": {},
   "outputs": [],
   "source": [
    "import pandas as pd\n",
    "import numpy as np\n",
    "from sentence_transformers import SentenceTransformer\n",
    "import faiss\n",
    "import gradio as gr"
   ]
  },
  {
   "cell_type": "code",
   "execution_count": 4,
   "id": "baf80b08-ccb9-46b4-9b59-4fb8c275da48",
   "metadata": {},
   "outputs": [
    {
     "name": "stdout",
     "output_type": "stream",
     "text": [
      "             qtype                                           Question  \\\n",
      "0   susceptibility  Who is at risk for Lymphocytic Choriomeningiti...   \n",
      "1         symptoms  What are the symptoms of Lymphocytic Choriomen...   \n",
      "2   susceptibility  Who is at risk for Lymphocytic Choriomeningiti...   \n",
      "3  exams and tests  How to diagnose Lymphocytic Choriomeningitis (...   \n",
      "4        treatment  What are the treatments for Lymphocytic Chorio...   \n",
      "\n",
      "                                              Answer  \n",
      "0  LCMV infections can occur after exposure to fr...  \n",
      "1  LCMV is most commonly recognized as causing ne...  \n",
      "2  Individuals of all ages who come into contact ...  \n",
      "3  During the first phase of the disease, the mos...  \n",
      "4  Aseptic meningitis, encephalitis, or meningoen...  \n"
     ]
    }
   ],
   "source": [
    "import pandas as pd\n",
    "\n",
    "# Load the dataset\n",
    "file_path = \"train.csv\"  # Replace with the actual dataset file path\n",
    "data = pd.read_csv(file_path)\n",
    "\n",
    "# Display the first few rows\n",
    "print(data.head())"
   ]
  },
  {
   "cell_type": "code",
   "execution_count": 5,
   "id": "611fbe32-66be-4460-9b52-500689d54da8",
   "metadata": {},
   "outputs": [
    {
     "name": "stdout",
     "output_type": "stream",
     "text": [
      "Dataset contains 16407 questions across 16 categories.\n"
     ]
    }
   ],
   "source": [
    "# Preprocessing\n",
    "data = data[['qtype', 'Question', 'Answer']].dropna()\n",
    "data.columns = ['qtype', 'question', 'answer']  # Rename for simplicity\n",
    "\n",
    "# Convert to lists\n",
    "qtypes = data['qtype'].tolist()\n",
    "questions = data['question'].tolist()\n",
    "answers = data['answer'].tolist()\n",
    "\n",
    "print(f\"Dataset contains {len(questions)} questions across {data['qtype'].nunique()} categories.\")"
   ]
  },
  {
   "cell_type": "code",
   "execution_count": 6,
   "id": "12fff949-8b20-4515-9d74-307857fa863a",
   "metadata": {},
   "outputs": [],
   "source": [
    "from sentence_transformers import SentenceTransformer\n",
    "\n",
    "model = SentenceTransformer('all-MiniLM-L6-v2')  # Optimized for semantic search"
   ]
  },
  {
   "cell_type": "code",
   "execution_count": 7,
   "id": "fd0c5436-a07a-47af-b86e-00d7584174f4",
   "metadata": {},
   "outputs": [
    {
     "data": {
      "application/vnd.jupyter.widget-view+json": {
       "model_id": "fcaa776ae1ed4398b8964561bc33849b",
       "version_major": 2,
       "version_minor": 0
      },
      "text/plain": [
       "Batches:   0%|          | 0/513 [00:00<?, ?it/s]"
      ]
     },
     "metadata": {},
     "output_type": "display_data"
    },
    {
     "name": "stdout",
     "output_type": "stream",
     "text": [
      "Embeddings created and saved.\n"
     ]
    }
   ],
   "source": [
    "# Generate embeddings for all questions\n",
    "import numpy as np\n",
    "\n",
    "question_embeddings = model.encode(questions, show_progress_bar=True)\n",
    "\n",
    "# Save embeddings for future use\n",
    "np.save(\"question_embeddings.npy\", question_embeddings)\n",
    "print(\"Embeddings created and saved.\")"
   ]
  },
  {
   "cell_type": "code",
   "execution_count": 8,
   "id": "fa1a032f-6eac-4508-bfb6-3d01046b177d",
   "metadata": {},
   "outputs": [
    {
     "name": "stdout",
     "output_type": "stream",
     "text": [
      "FAISS index contains 16407 items.\n"
     ]
    }
   ],
   "source": [
    "import faiss\n",
    "\n",
    "# Initialize FAISS index\n",
    "dimension = question_embeddings.shape[1]  # Embedding vector dimension\n",
    "index = faiss.IndexFlatL2(dimension)\n",
    "\n",
    "# Add embeddings to the FAISS index\n",
    "index.add(np.array(question_embeddings))\n",
    "print(f\"FAISS index contains {index.ntotal} items.\")"
   ]
  },
  {
   "cell_type": "code",
   "execution_count": 9,
   "id": "29f361c6-2b67-4bbc-8b0c-a4dfe963637f",
   "metadata": {},
   "outputs": [],
   "source": [
    "def search_faq(query, top_k=3):\n",
    "    query_embedding = model.encode([query])\n",
    "    distances, indices = index.search(query_embedding, top_k)\n",
    "\n",
    "    results = []\n",
    "    for idx in indices[0]:\n",
    "        results.append({\n",
    "            'qtype': qtypes[idx],\n",
    "            'question': questions[idx],\n",
    "            'answer': answers[idx]\n",
    "        })\n",
    "    return results\n"
   ]
  },
  {
   "cell_type": "code",
   "execution_count": 10,
   "id": "e699f4c9-6768-4b18-8053-e8b2daea8d80",
   "metadata": {},
   "outputs": [
    {
     "name": "stdout",
     "output_type": "stream",
     "text": [
      "Category: symptoms\n",
      "Question: What are the symptoms of Q Fever ?\n",
      "Answer: Q fever can cause acute or chronic illness in humans, who usually acquire infection after contact with infected animals or exposure to contaminated environments. The acute symptoms caused by infection with Coxiella burnetii usually develop within 2-3 weeks of exposure, although as many as half of humans infected withC. burnetii do not show symptoms. \n",
      " \n",
      "The following is a list of symptoms commonly seen with acute Q fever. However, it is important to note that the combination of symptoms varies greatly from person to person. \n",
      "  \n",
      "  - high fevers (up to 104-105°F)  \n",
      "  - severe headache  \n",
      "  - general malaise  \n",
      "  - myalgia  \n",
      "  - chills and/or sweats  \n",
      "  - non-productive cough  \n",
      "  - nausea  \n",
      "  - vomiting  \n",
      "  - diarrhea  \n",
      "  - abdominal pain  \n",
      "  - chest pain  \n",
      "  \n",
      " \n",
      "Although most persons with acute Q fever infection recover, others may experience serious illness with complications that may include pneumonia, granulomatous hepatitis (inflammation of the liver), myocarditis (inflammation of the heart tissue) and central nervous system complications. Pregnant women who are infected may be at risk for pre-term delivery or miscarriage. The estimated case fatality rate (i.e. the proportion of persons who die as a result of their infection) is low,  at < 2% of hospitalized patients. Treatment with the correct antibiotic may shorten the course of illness for acute Q fever.  \n",
      " \n",
      "Chronic Q fever is a severe disease occurring in <5% of acutely infected patients. It may present soon (within 6 weeks) after an acute infection, or may manifest years later.  The three groups at highest risk for chronic Q fever are pregnant women, immunosuppressed persons and patients with a pre-existing heart valve defects. Endocarditis is the major form of chronic disease, comprising 60-70% of all reported cases. The estimated case fatality rate in untreated patients with endocarditis is 25-60%. Patients with endocarditis require early diagnosis and long-term antibiotic treatment (at least 18 months) for a successful outcome.   Other forms of chronic Q fever include aortic aneurysms and infections of the bone, liver or reproductive organs, such as the testes in males. \n",
      " \n",
      "Coxiella burnetii has the ability to persist for long periods of time in the host after infection. Although the majority of people with acute Q fever recover completely, a post-Q fever fatigue syndrome has been reported to occur in 10-25% of some acute patients. This syndrome is characterized by constant or recurring fatigue, night sweats, severe headaches, photophobia (eye sensitivity to light), pain in muscles and joints, mood changes, and difficulty sleeping.  \n",
      " \n",
      " \n",
      " Physician Diagnosis \n",
      " \n",
      "There are several aspects of Q fever that make it challenging for healthcare providers to diagnose and treat.  The symptoms vary from patient to patient and can be difficult to distinguish from other diseases.  Treatment is more likely to be effective if started in the first three days of symptoms. Diagnostic tests based on the detection of antibodies will frequently appear negative in the first 7-10 days of illness.  For this reason, healthcare providers must use their judgment to treat patients based on clinical suspicion alone. Healthcare providers may find important information in the patient’s history and physical examination that may aid clinical diagnosis. Information such as recent travel to rural or agricultural communities where infected livestock may be present, or employment in high risk occupations such as veterinarians or farmers can be helpful in making the diagnosis.  Chronic Q fever is a risk for anyone with a history of acute Q fever illness, particularly those persons with valvular disease, blood vessel abnormalities, immunosuppressed persons, and women who were pregnant when they became infected.  \n",
      " \n",
      "The healthcare provider should also look at routine blood tests, such as a complete blood cell count or a chemistry panel. Clues such as a prolonged fever with low platelet count, normal leukocyte count, and elevated liver enzymes are suggestive of acute Q fever infection, but may not be present in all patients.  After a suspect diagnosis is made based on clinical suspicion and treatment has begun, specialized laboratory testing should be used to confirm the diagnosis of Q fever. \n",
      " \n",
      "Suspect diagnosis of Q fever is made based on signs and symptoms and a high index of clinical suspicion.  Diagnosis can later be confirmed using specialized confirmatory laboratory tests. Treatment should never be delayed pending the receipt of laboratory test results, or be withheld on the basis of an initial negative laboratory result. \n",
      " \n",
      "  \n",
      " \n",
      " \n",
      " Laboratory Confirmation \n",
      " \n",
      "During the acute phase of illness, a sample of whole blood can be tested by polymerase chain reaction (PCR) assay to determine if a patient has Q fever. This method is most sensitive in the first week of illness, and rapidly decreases in sensitivity following the administration of appropriate antibiotics. PCR or immunohistochemistry of biopsy specimens has also been used to diagnose Q fever. These tests may be appropriate for endocarditis patients undergoing valve replacement surgery or patients with hepatitis. Although a positive PCR result is helpful, a negative result does not rule out the diagnosis, and treatment should not be withheld due to a negative result. Culture isolation of C. burnetii is only available at specialized laboratories; routine hospital blood cultures cannot detect the organism.  \n",
      " \n",
      "When a person develops Q fever, their immune system produces antibodies to C. burnetii, with detectable antibody titers usually observed by 7-10 days after illness onset.  It is important to note that a negative test during the first week of illness does not rule out Q fever as a cause of illness. There are two distinct antigenic phases to which humans develop antibody responses. In acute infection, an antibody response to C. burnetii Phase II antigen is predominant and is higher than Phase I antibody response; the reverse is true in chronic infection which is associated with a rising Phase I IgG titer (according to current U.S. case definitions >1:800) that is often much higher than Phase II IgG.  The gold standard serologic test for diagnosis of acute Q fever is the indirect immunofluorescence assay (IFA) using C. burnetii antigen, performed on paired serum samples to demonstrate a significant (four-fold) rise in antibody titers. The first sample should be taken as early in the disease as possible, preferably in the first week of symptoms, and the second sample should be taken 2 to 4 weeks later. In most cases of Q fever, the first IgG IFA titer is typically low, or “negative,” and the second typically shows a significant (four-fold) increase in IgG antibody levels. IgM antibodies usually rise at the same time as IgG near the end of the first week of illness and remain elevated for months or longer.  Also, IgM antibodies are less specific than IgG antibodies and more likely to result in a false positive.  For these reasons, physicians should request both Phase I and Phase II IgG and IgM serologic titers for diagnostic confirmation of acute and chronic Q fever.  Antibodies to C. burnetii may remain elevated for months or longer after the disease has resolved, or may be detected in persons who were previously exposed to antigenically related organisms.  Approximately 3% of currently healthy people in the U.S. general population and up to 20% of people in high-risk professions (veterinarians, ranchers, etc.) have elevated antibody titers due to past exposure to C. burnetii. Therefore, if only one sample is tested it can be difficult to interpret the findings.  \n",
      " \n",
      "Paired samples taken 2-3 weeks apart demonstrating a significant (four-fold) rise in antibody titer provides the best evidence for a correct diagnosis of acute Q fever. Diagnosis of chronic Q fever is confirmed by elevated Phase I IgG antibody (according to current U.S. case definitions >1:800 and higher than Phase II IgG) and an identifiable persistent focus of infection (e.g. endocarditis).  Elevated Phase I titers alone do not confirm a chronic Q fever diagnosis and would not warrant treatment in a clinically normal patient. Because chronic Q fever involves lengthy persistence of the organism in the body, the antibody levels are often quite high and you will not see a rising titer between paired serum specimens. \n",
      " \n",
      "For more in-depth information about the diagnosis of Q fever, please visit http://www.bt.cdc.gov/agent/qfever/clinicians/diagnosis.asp \n",
      " \n",
      " \n",
      " Treatment \n",
      " \n",
      "Doxycycline is the first line treatment for all adults, and for children with severe illness. Treatment should be initiated immediately whenever Q fever is suspected. \n",
      " \n",
      "Use of antibiotics other than doxycycline or other tetracyclines is associated with a higher risk of severe illness. Doxycycline is most effective at preventing severe complications from developing if it is started early in the course of disease. Therefore, treatment must be based on clinical suspicion alone and should always begin before laboratory results return. \n",
      " \n",
      "If the patient is treated within the first 3 days of the disease, fever generally subsides within 72 hours.  In fact, failure to respond to doxycycline suggests that the patient’s condition might not be due to Q fever. Severely ill patients may require longer periods before their fever resolves. Resistance to doxcycline has not been documented.  \n",
      " \n",
      "There is no role for prophylactic antimicrobial agents in preventing Q fever after a known exposure and prior to symptom onset; attempts at prophylaxis will likely extend the incubation period by several days but will not prevent infection from occurring.  \n",
      " \n",
      "Recommended Dosage for Acute Q fever\n",
      " Doxycycline is the first line treatment for children with severe illness of all ages and adults: \n",
      "  \n",
      "  - Adults: 100 mg every 12 hours  \n",
      "  - Children under 45 kg (100 lbs): 2.2 mg/kg body weight given twice a day  \n",
      "  \n",
      " \n",
      "Patients should be treated for at least 3 days after the fever subsides and until there is evidence of clinical improvement. Standard duration of treatment is 2-3 weeks.  \n",
      " \n",
      "Recommended Dosage for Chronic Q fever \n",
      "  \n",
      "  - Adults: Doxycycline 100 mg every 12 hours and hydroxychloroquine 200 mg every 8 hours. \n",
      "  \n",
      " \n",
      "Standard duration of treatment is 18 months. \n",
      " \n",
      " \n",
      " Treating children \n",
      " \n",
      "The use of doxycycline is recommended to treat Q fever in children of all ages who are hospitalized or are severely ill. Unlike older generations of tetracyclines, doxycycline has not been shown to cause staining of permanent teeth, and most experts consider the benefit of doxycycline in treating Q fever in children younger than 8 years of age with severe illness or who are hospitalized greater than the potential risk of dental staining.  Children with mild illness who are less than 8 years of age may be treated with co-trimoxazole, but therapy should be switched to doxycycline if their course of illness worsens. \n",
      " \n",
      " \n",
      " Other Treatments \n",
      " \n",
      "In cases of life threatening allergies to doxycycline and in pregnant patients, physicians may need to consider alternate antibiotics. Treatment of pregnant women diagnosed with acute Q fever with once daily co-trimoxazole throughout pregnancy has been shown to significantly decrease the risk of adverse consequences for the fetus.\n",
      "\n",
      "Category: symptoms\n",
      "Question: What are the symptoms of Pneumonia ?\n",
      "Answer: The signs and symptoms of pneumonia vary from mild to severe. Many factors affect how serious pneumonia is, including the type of germ causing the infection and your age and overall health. (For more information, go to \"Who Is at Risk for Pneumonia?\")\n",
      "                \n",
      "See your doctor promptly if you:\n",
      "                \n",
      "Have a high fever\n",
      "                \n",
      "Have shaking chills\n",
      "                \n",
      "Have a cough with phlegm (a slimy substance), which doesn't improve or worsens\n",
      "                \n",
      "Develop shortness of breath with normal daily activities\n",
      "                \n",
      "Have chest pain when you breathe or cough\n",
      "                \n",
      "Feel suddenly worse after a cold or the flu\n",
      "                \n",
      "People who have pneumonia may have other symptoms, including nausea (feeling sick to the stomach), vomiting, and diarrhea.\n",
      "                \n",
      "Symptoms may vary in certain populations. Newborns and infants may not show any signs of the infection. Or, they may vomit, have a fever and cough, or appear restless, sick, or tired and without energy.\n",
      "                \n",
      "Older adults and people who have serious illnesses or weak immune systems may have fewer and milder symptoms. They may even have a lower than normal temperature. If they already have a lung disease, it may get worse. Older adults who have pneumonia sometimes have sudden changes in mental awareness.\n",
      "                \n",
      "Complications of Pneumonia\n",
      "                \n",
      "Often, people who have pneumonia can be successfully treated and not have complications. But some people, especially those in high-risk groups, may have complications such as:\n",
      "                \n",
      "Bacteremia (bak-ter-E-me-ah). This serious complication occurs if the infection moves into your bloodstream. From there, it can quickly spread to other organs, including your brain.\n",
      "                \n",
      "Lung abscesses. An abscess occurs if pus forms in a cavity in the lung. An abscess usually is treated with antibiotics. Sometimes surgery or drainage with a needle is needed to remove the pus.\n",
      "                \n",
      "Pleural effusion. Pneumonia may cause fluid to build up in the pleural space. This is a very thin space between two layers of tissue that line the lungs and the chest cavity. Pneumonia can cause the fluid to become infecteda condition called empyema (em-pi-E-ma). If this happens, you may need to have the fluid drained through a chest tube or removed with surgery.\n",
      "\n",
      "Category: symptoms\n",
      "Question: What are the symptoms of Rheumatic Fever ?\n",
      "Answer: What are the signs and symptoms of Rheumatic Fever? Rheumatic fever is primarily diagnosed in children between the ages of 6 and 16 and can affect many different systems of the body, including the heart, joints, nervous system and/or skin. The condition usually develops approximately 14-28 days after infection with group A Streptococcus bacteria, such as strep throat or scarlet fever. Early signs and symptoms may include sore throat; swollen red tonsils; fever; headache; and/or muscle aches. Affected people may also experience: Abdominal pain Rheumatic heart disease Joint pain and/or swelling Nosebleeds Skin nodules (painless, firm, round lumps underneath the skin) Skin rash Sydenham chorea (abrupt, non-repetitive limb movements and grimaces) People with a history of rheumatic fever have a high risk of developing recurrent episodes of the condition. This can cause progressive (worsening over time) heart damage. The Human Phenotype Ontology provides the following list of signs and symptoms for Rheumatic Fever. If the information is available, the table below includes how often the symptom is seen in people with this condition. You can use the MedlinePlus Medical Dictionary to look up the definitions for these medical terms. Signs and Symptoms Approximate number of patients (when available) Abnormality of temperature regulation 90% Anorexia 90% Arthritis 90% Hypermelanotic macule 90% Nausea and vomiting 90% Recurrent pharyngitis 90% Abdominal pain 50% Abnormality of the aortic valve 50% Abnormality of the endocardium 50% Abnormality of the mitral valve 50% Abnormality of the myocardium 50% Arrhythmia 50% Arthralgia 50% Chest pain 50% Chorea 50% Pallor 50% Sinusitis 50% Abnormality of the pericardium 7.5% Abnormality of the pleura 7.5% Aplasia/Hypoplasia of the abdominal wall musculature 7.5% Behavioral abnormality 7.5% Constipation 7.5% Epistaxis 7.5% Gait disturbance 7.5% Hemiballismus 7.5% Migraine 7.5% Nephrotic syndrome 7.5% Neurological speech impairment 7.5% Respiratory insufficiency 7.5% Abnormality of the immune system - Fever - The Human Phenotype Ontology (HPO) has collected information on how often a sign or symptom occurs in a condition. Much of this information comes from Orphanet, a European rare disease database. The frequency of a sign or symptom is usually listed as a rough estimate of the percentage of patients who have that feature. The frequency may also be listed as a fraction. The first number of the fraction is how many people had the symptom, and the second number is the total number of people who were examined in one study. For example, a frequency of 25/25 means that in a study of 25 people all patients were found to have that symptom. Because these frequencies are based on a specific study, the fractions may be different if another group of patients are examined. Sometimes, no information on frequency is available. In these cases, the sign or symptom may be rare or common.\n",
      "\n"
     ]
    }
   ],
   "source": [
    "query = \"What are the symptoms of flu?\"\n",
    "results = search_faq(query)\n",
    "\n",
    "for result in results:\n",
    "    print(f\"Category: {result['qtype']}\")\n",
    "    print(f\"Question: {result['question']}\")\n",
    "    print(f\"Answer: {result['answer']}\\n\")"
   ]
  },
  {
   "cell_type": "code",
   "execution_count": 11,
   "id": "caedb138-4c9c-428f-a51c-2277156a4a65",
   "metadata": {},
   "outputs": [],
   "source": [
    "def chatbot(query):\n",
    "    results = search_faq(query)\n",
    "    if results:\n",
    "        top_result = results[0]\n",
    "        response = (\n",
    "            f\"**Category:** {top_result['qtype']}\\n\"\n",
    "            f\"**Question:** {top_result['question']}\\n\"\n",
    "            f\"**Answer:** {top_result['answer']}\"\n",
    "        )\n",
    "        return response\n",
    "    else:\n",
    "        return \"Sorry, I couldn't find an answer to your question.\"\n"
   ]
  },
  {
   "cell_type": "code",
   "execution_count": 12,
   "id": "900791dd-8a99-4685-80c6-3659ee3f332d",
   "metadata": {},
   "outputs": [],
   "source": [
    "import gradio as gr\n",
    "\n",
    "interface = gr.Interface(\n",
    "    fn=chatbot,\n",
    "    inputs=gr.Textbox(lines=2, placeholder=\"Enter your medical question...\"),\n",
    "    outputs=\"text\",\n",
    "    title=\"Healthcare Chatbot\",\n",
    "    description=\"Ask any medical question, and get instant answers with category-specific context!\"\n",
    ")\n"
   ]
  },
  {
   "cell_type": "code",
   "execution_count": 13,
   "id": "2adf8550-62a0-49d6-a6c2-6d7d934936ed",
   "metadata": {},
   "outputs": [
    {
     "name": "stdout",
     "output_type": "stream",
     "text": [
      "* Running on local URL:  http://127.0.0.1:7860\n",
      "\n",
      "To create a public link, set `share=True` in `launch()`.\n"
     ]
    },
    {
     "data": {
      "text/html": [
       "<div><iframe src=\"http://127.0.0.1:7860/\" width=\"100%\" height=\"500\" allow=\"autoplay; camera; microphone; clipboard-read; clipboard-write;\" frameborder=\"0\" allowfullscreen></iframe></div>"
      ],
      "text/plain": [
       "<IPython.core.display.HTML object>"
      ]
     },
     "metadata": {},
     "output_type": "display_data"
    },
    {
     "data": {
      "text/plain": []
     },
     "execution_count": 13,
     "metadata": {},
     "output_type": "execute_result"
    }
   ],
   "source": [
    "interface.launch()"
   ]
  },
  {
   "cell_type": "code",
   "execution_count": 14,
   "id": "58f49029-25ce-4ee8-9355-ff76d604709c",
   "metadata": {},
   "outputs": [
    {
     "ename": "SyntaxError",
     "evalue": "invalid syntax (2049942660.py, line 1)",
     "output_type": "error",
     "traceback": [
      "\u001b[1;36m  Cell \u001b[1;32mIn[14], line 1\u001b[1;36m\u001b[0m\n\u001b[1;33m    def chatbot_with_category(query, category=None): // DOnt use yet not working\u001b[0m\n\u001b[1;37m                                                     ^\u001b[0m\n\u001b[1;31mSyntaxError\u001b[0m\u001b[1;31m:\u001b[0m invalid syntax\n"
     ]
    }
   ],
   "source": [
    "def chatbot_with_category(query, category=None): // DOnt use yet not working\n",
    "    results = search_faq(query)\n",
    "    if category:\n",
    "        # Filter results by category\n",
    "        results = [res for res in results if res['qtype'].lower() == category.lower()]\n",
    "\n",
    "    if results:\n",
    "        top_result = results[0]\n",
    "        response = (\n",
    "            f\"**Category:** {top_result['qtype']}\\n\"\n",
    "            f\"**Question:** {top_result['question']}\\n\"\n",
    "            f\"**Answer:** {top_result['answer']}\"\n",
    "        )\n",
    "        return response\n",
    "    else:\n",
    "        return f\"Sorry, no results found in the '{category}' category.\"\n"
   ]
  },
  {
   "cell_type": "code",
   "execution_count": null,
   "id": "ee3529b1-b0ef-4ace-bf68-e8e17876adab",
   "metadata": {},
   "outputs": [],
   "source": [
    "interface = gr.Interface( // DOnt use yet not working\n",
    "    fn=lambda query, category: chatbot_with_category(query, category),\n",
    "    inputs=[\n",
    "        gr.Textbox(lines=2, placeholder=\"Enter your medical question...\"),\n",
    "        gr.Dropdown(choices=['symptoms', 'treatment', 'prevention', 'other'], label=\"Category (optional)\")\n",
    "    ],\n",
    "    outputs=\"text\",\n",
    "    title=\"Healthcare Chatbot\",\n",
    "    description=\"Ask any medical question, and filter by category if desired!\"\n",
    ")\n"
   ]
  },
  {
   "cell_type": "code",
   "execution_count": null,
   "id": "74f89e19-ca91-4632-a674-730adb1881a7",
   "metadata": {},
   "outputs": [],
   "source": [
    "interface.launch()"
   ]
  },
  {
   "cell_type": "code",
   "execution_count": null,
   "id": "ff2fa3de-a85e-45e2-869b-8e2ce505ed50",
   "metadata": {},
   "outputs": [],
   "source": []
  }
 ],
 "metadata": {
  "kernelspec": {
   "display_name": "Python 3 (ipykernel)",
   "language": "python",
   "name": "python3"
  },
  "language_info": {
   "codemirror_mode": {
    "name": "ipython",
    "version": 3
   },
   "file_extension": ".py",
   "mimetype": "text/x-python",
   "name": "python",
   "nbconvert_exporter": "python",
   "pygments_lexer": "ipython3",
   "version": "3.12.7"
  }
 },
 "nbformat": 4,
 "nbformat_minor": 5
}
