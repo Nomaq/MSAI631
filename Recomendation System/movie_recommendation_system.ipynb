{
 "cells": [
  {
   "cell_type": "code",
   "execution_count": null,
   "id": "d69be5f3",
   "metadata": {},
   "outputs": [],
   "source": [
    "\n",
    "!pip install Flask pandas scikit-learn numpy scikit-surprise\n"
   ]
  },
  {
   "cell_type": "code",
   "execution_count": null,
   "id": "1ba4dfa5",
   "metadata": {},
   "outputs": [],
   "source": [
    "\n",
    "import pandas as pd\n",
    "\n",
    "# Sample ratings dataset (userId, movieId, rating)\n",
    "ratings_data = {\n",
    "    'userId': [1, 1, 1, 2, 2, 2],\n",
    "    'movieId': [1, 2, 3, 1, 2, 3],\n",
    "    'rating': [5, 4, 3, 4, 5, 2]\n",
    "}\n",
    "\n",
    "# Create a DataFrame\n",
    "ratings = pd.DataFrame(ratings_data)\n",
    "\n",
    "# Show the data\n",
    "ratings.head()\n"
   ]
  },
  {
   "cell_type": "code",
   "execution_count": null,
   "id": "cf765276",
   "metadata": {},
   "outputs": [],
   "source": [
    "\n",
    "from surprise import SVD, Dataset, Reader\n",
    "from surprise.model_selection import train_test_split\n",
    "\n",
    "# Prepare the dataset in a format suitable for scikit-surprise\n",
    "reader = Reader(rating_scale=(1, 5))\n",
    "data = Dataset.load_from_df(ratings[['userId', 'movieId', 'rating']], reader)\n",
    "\n",
    "# Split the data into training and test sets\n",
    "trainset, testset = train_test_split(data, test_size=0.2)\n",
    "\n",
    "# Train an SVD model\n",
    "model = SVD()\n",
    "model.fit(trainset)\n",
    "\n",
    "# Evaluate the model\n",
    "predictions = model.test(testset)\n",
    "predictions[:5]  # Show first 5 predictions\n"
   ]
  },
  {
   "cell_type": "code",
   "execution_count": null,
   "id": "240f86a1",
   "metadata": {},
   "outputs": [],
   "source": [
    "\n",
    "from flask import Flask, jsonify, request\n",
    "\n",
    "app = Flask(__name__)\n",
    "\n",
    "# Load the dataset and model\n",
    "trainset = data.build_full_trainset()\n",
    "model.fit(trainset)\n",
    "\n",
    "@app.route('/')\n",
    "def home():\n",
    "    return \"Welcome to the Movie Recommender!\"\n",
    "\n",
    "@app.route('/recommend', methods=['GET'])\n",
    "def recommend():\n",
    "    user_id = int(request.args.get('user_id'))\n",
    "    movie_id = int(request.args.get('movie_id'))\n",
    "    \n",
    "    # Predict the rating for a given user and movie\n",
    "    predicted_rating = model.predict(user_id, movie_id).est\n",
    "    return jsonify({'predicted_rating': predicted_rating})\n",
    "\n",
    "if __name__ == '__main__':\n",
    "    app.run(debug=True)\n"
   ]
  }
 ],
 "metadata": {
  "language_info": {
   "name": "python"
  }
 },
 "nbformat": 4,
 "nbformat_minor": 5
}
